{
 "cells": [
  {
   "cell_type": "code",
   "execution_count": 5,
   "id": "c44b8650",
   "metadata": {},
   "outputs": [
    {
     "name": "stdout",
     "output_type": "stream",
     "text": [
      "Number of Contigs: 565\n",
      "Longest Contig: 161250\n",
      "Total Length: 4918466\n",
      "N50: 40880\n",
      "None\n"
     ]
    }
   ],
   "source": [
    "def count_contigs(fasta_file):\n",
    "    contig_lengths = []\n",
    "\n",
    "    with open(fasta_file, \"r\") as file:\n",
    "        lines = file.readlines()\n",
    "        for line in lines:\n",
    "            line = line.strip()\n",
    "            # check if the line starts with '>'\n",
    "            if line.startswith(\">\"):\n",
    "                header_parts = line.split(\"|\") # extracting the length of the contig\n",
    "                \n",
    "                for part in header_parts:\n",
    "                    if part.startswith('size'):\n",
    "                        contig_size = int(part[4:])\n",
    "                        contig_lengths.append(contig_size)\n",
    "            \n",
    "    sorted_contig_lengths = sorted(contig_lengths, reverse=True)\n",
    "\n",
    "    num_contigs = len(sorted_contig_lengths)\n",
    "    longest_contig = sorted_contig_lengths[0]\n",
    "    total_length = sum(sorted_contig_lengths)\n",
    "    \n",
    "    n50 = None\n",
    "    current_sum = 0\n",
    "    \n",
    "    for length in sorted_contig_lengths:\n",
    "        current_sum += length\n",
    "        if current_sum >= total_length / 2:\n",
    "            n50 = length\n",
    "            break\n",
    "    \n",
    "    print('Number of Contigs:', num_contigs)\n",
    "    print('Longest Contig:', longest_contig)\n",
    "    print('Total Length:', total_length)\n",
    "    print('N50:', n50)\n",
    "\n",
    "print(count_contigs('assembly/assembly55_contigs.fa'))"
   ]
  },
  {
   "cell_type": "code",
   "execution_count": null,
   "id": "e0635013",
   "metadata": {},
   "outputs": [],
   "source": []
  },
  {
   "cell_type": "code",
   "execution_count": null,
   "id": "bf872deb",
   "metadata": {},
   "outputs": [],
   "source": []
  },
  {
   "cell_type": "code",
   "execution_count": null,
   "id": "cb7ef4cb",
   "metadata": {},
   "outputs": [],
   "source": []
  }
 ],
 "metadata": {
  "kernelspec": {
   "display_name": "Python 3 (ipykernel)",
   "language": "python",
   "name": "python3"
  },
  "language_info": {
   "codemirror_mode": {
    "name": "ipython",
    "version": 3
   },
   "file_extension": ".py",
   "mimetype": "text/x-python",
   "name": "python",
   "nbconvert_exporter": "python",
   "pygments_lexer": "ipython3",
   "version": "3.8.8"
  }
 },
 "nbformat": 4,
 "nbformat_minor": 5
}
